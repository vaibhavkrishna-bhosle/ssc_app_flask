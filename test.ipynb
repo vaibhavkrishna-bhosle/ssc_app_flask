{
 "cells": [
  {
   "cell_type": "code",
   "execution_count": 1,
   "metadata": {},
   "outputs": [],
   "source": [
    "user = \"ADMIN\"\n",
    "password = \"SatyamSSC!!11\"\n",
    "port=1522\n",
    "host=\"adb.ap-hyderabad-1.oraclecloud.com\"\n",
    "service_name=\"geaa991f6dcda9b_sscapp_medium.adb.oraclecloud.com\""
   ]
  },
  {
   "cell_type": "code",
   "execution_count": 3,
   "metadata": {},
   "outputs": [
    {
     "data": {
      "text/plain": [
       "[(1, 'john_doe', 'password123', 'student'),\n",
       " (2, 'jane_smith', 'letmein', 'student'),\n",
       " (3, 'bob_johnson', 'mypassword', 'staff'),\n",
       " (4, 'susan_wang', '1234', 'staff'),\n",
       " (5, 'jacob_rodriguez', 'password', 'parent'),\n",
       " (6, 'daniel_kim', 'qwerty', 'parent'),\n",
       " (7, 'emily_nguyen', 'pa$$word', 'student'),\n",
       " (8, 'michael_chen', 'password1', 'student'),\n",
       " (9, 'lauren_lee', '123456', 'staff'),\n",
       " (10, 'samuel_park', 'password1234', 'staff'),\n",
       " (11, 'grace_kim', 'abcdefg', 'parent'),\n",
       " (12, 'luke_ng', 'letmein123', 'parent'),\n",
       " (13, 'ashley_tran', 'password', 'student'),\n",
       " (14, 'jason_wu', '123456789', 'student'),\n",
       " (15, 'katie_li', 'password1', 'staff'),\n",
       " (16, 'jennifer_kim', 'mypassword', 'staff'),\n",
       " (17, 'brian_chang', 'password123', 'parent'),\n",
       " (18, 'stephanie_kim', 'iloveyou', 'parent'),\n",
       " (19, 'david_hu', 'qwertyuiop', 'student'),\n",
       " (20, 'natalie_lee', 'password12345', 'student')]"
      ]
     },
     "execution_count": 3,
     "metadata": {},
     "output_type": "execute_result"
    }
   ],
   "source": [
    "import cx_Oracle\n",
    "connect_string = f'tcps://{host}:{port}/{service_name}?wallet_location=Wallet&retry_count=20&retry_delay=3'\n",
    "con = cx_Oracle.connect(user, password, connect_string)\n",
    "cur = con.cursor()\n",
    "cur.execute(\"select * from user_login\")\n",
    "cur.fetchall()\n"
   ]
  },
  {
   "cell_type": "code",
   "execution_count": null,
   "metadata": {},
   "outputs": [],
   "source": []
  }
 ],
 "metadata": {
  "kernelspec": {
   "display_name": "ssc-app",
   "language": "python",
   "name": "python3"
  },
  "language_info": {
   "codemirror_mode": {
    "name": "ipython",
    "version": 3
   },
   "file_extension": ".py",
   "mimetype": "text/x-python",
   "name": "python",
   "nbconvert_exporter": "python",
   "pygments_lexer": "ipython3",
   "version": "3.10.9"
  },
  "orig_nbformat": 4
 },
 "nbformat": 4,
 "nbformat_minor": 2
}
