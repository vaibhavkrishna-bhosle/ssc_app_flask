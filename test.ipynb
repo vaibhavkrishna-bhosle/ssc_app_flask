{
 "cells": [
  {
   "cell_type": "code",
   "execution_count": 5,
   "metadata": {},
   "outputs": [
    {
     "name": "stdout",
     "output_type": "stream",
     "text": [
      "[(1, 'john_doe', 'password123', 'student'), (2, 'jane_smith', 'letmein', 'student'), (3, 'bob_johnson', 'mypassword', 'staff'), (4, 'susan_wang', '1234', 'staff'), (5, 'jacob_rodriguez', 'password', 'parent'), (6, 'daniel_kim', 'qwerty', 'parent'), (7, 'emily_nguyen', 'pa$$word', 'student'), (8, 'michael_chen', 'password1', 'student'), (9, 'lauren_lee', '123456', 'staff'), (10, 'samuel_park', 'password1234', 'staff'), (11, 'grace_kim', 'abcdefg', 'parent'), (12, 'luke_ng', 'letmein123', 'parent'), (13, 'ashley_tran', 'password', 'student'), (14, 'jason_wu', '123456789', 'student'), (15, 'katie_li', 'password1', 'staff'), (16, 'jennifer_kim', 'mypassword', 'staff'), (17, 'brian_chang', 'password123', 'parent'), (18, 'stephanie_kim', 'iloveyou', 'parent'), (19, 'david_hu', 'qwertyuiop', 'student'), (20, 'natalie_lee', 'password12345', 'student')]\n"
     ]
    }
   ],
   "source": [
    "from sqlalchemy import create_engine\n",
    "\n",
    "tns = \"(description= (retry_count=20)(retry_delay=3)(address=(protocol=tcps)(port=1522)(host=adb.ap-hyderabad-1.oraclecloud.com))(connect_data=(service_name=geaa991f6dcda9b_ssc_medium.adb.oraclecloud.com))(security=(ssl_server_dn_match=yes)))\"\n",
    "engine = create_engine('oracle+cx_oracle://admin:SatyamSSC#12#@'+tns)\n",
    "connection = engine.raw_connection()\n",
    "cursor = connection.cursor()\n",
    "cursor.execute('SELECT * FROM user_login')\n",
    "result = cursor.fetchall()\n",
    "print(result)\n",
    "cursor.close()"
   ]
  },
  {
   "cell_type": "code",
   "execution_count": null,
   "metadata": {},
   "outputs": [],
   "source": []
  }
 ],
 "metadata": {
  "kernelspec": {
   "display_name": "ssc-app",
   "language": "python",
   "name": "python3"
  },
  "language_info": {
   "codemirror_mode": {
    "name": "ipython",
    "version": 3
   },
   "file_extension": ".py",
   "mimetype": "text/x-python",
   "name": "python",
   "nbconvert_exporter": "python",
   "pygments_lexer": "ipython3",
   "version": "3.10.9"
  },
  "orig_nbformat": 4
 },
 "nbformat": 4,
 "nbformat_minor": 2
}
