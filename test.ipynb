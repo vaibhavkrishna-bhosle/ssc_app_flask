{
 "cells": [
  {
   "cell_type": "code",
   "execution_count": 1,
   "metadata": {},
   "outputs": [],
   "source": [
    "import cx_Oracle\n",
    "import os"
   ]
  },
  {
   "cell_type": "code",
   "execution_count": 2,
   "metadata": {},
   "outputs": [],
   "source": [
    "os.environ['TNS_ADMIN'] = \".\\Wallet_SSC\""
   ]
  },
  {
   "cell_type": "code",
   "execution_count": 3,
   "metadata": {},
   "outputs": [],
   "source": [
    "connection = cx_Oracle.connect('admin', 'SatyamSSC@12#', 'ssc_medium')"
   ]
  },
  {
   "cell_type": "code",
   "execution_count": 4,
   "metadata": {},
   "outputs": [],
   "source": [
    "def get_user_logins():\n",
    "    cursor = connection.cursor()\n",
    "    cursor.execute('SELECT * FROM user_login')\n",
    "    result = cursor.fetchall()\n",
    "    cursor.close()\n",
    "    return result"
   ]
  },
  {
   "cell_type": "code",
   "execution_count": 5,
   "metadata": {},
   "outputs": [],
   "source": [
    "user_logins = get_user_logins()"
   ]
  },
  {
   "cell_type": "code",
   "execution_count": 6,
   "metadata": {},
   "outputs": [
    {
     "data": {
      "text/plain": [
       "[(1, 'john_doe', 'password123', 'student'),\n",
       " (2, 'jane_smith', 'letmein', 'student'),\n",
       " (3, 'bob_johnson', 'mypassword', 'staff'),\n",
       " (4, 'susan_wang', '1234', 'staff'),\n",
       " (5, 'jacob_rodriguez', 'password', 'parent'),\n",
       " (6, 'daniel_kim', 'qwerty', 'parent'),\n",
       " (7, 'emily_nguyen', 'pa$$word', 'student'),\n",
       " (8, 'michael_chen', 'password1', 'student'),\n",
       " (9, 'lauren_lee', '123456', 'staff'),\n",
       " (10, 'samuel_park', 'password1234', 'staff'),\n",
       " (11, 'grace_kim', 'abcdefg', 'parent'),\n",
       " (12, 'luke_ng', 'letmein123', 'parent'),\n",
       " (13, 'ashley_tran', 'password', 'student'),\n",
       " (14, 'jason_wu', '123456789', 'student'),\n",
       " (15, 'katie_li', 'password1', 'staff'),\n",
       " (16, 'jennifer_kim', 'mypassword', 'staff'),\n",
       " (17, 'brian_chang', 'password123', 'parent'),\n",
       " (18, 'stephanie_kim', 'iloveyou', 'parent'),\n",
       " (19, 'david_hu', 'qwertyuiop', 'student'),\n",
       " (20, 'natalie_lee', 'password12345', 'student')]"
      ]
     },
     "execution_count": 6,
     "metadata": {},
     "output_type": "execute_result"
    }
   ],
   "source": [
    "user_logins"
   ]
  },
  {
   "cell_type": "code",
   "execution_count": 12,
   "metadata": {},
   "outputs": [
    {
     "name": "stdout",
     "output_type": "stream",
     "text": [
      " * Serving Flask app '__main__'\n",
      " * Debug mode: off\n"
     ]
    },
    {
     "name": "stderr",
     "output_type": "stream",
     "text": [
      "WARNING: This is a development server. Do not use it in a production deployment. Use a production WSGI server instead.\n",
      " * Running on http://127.0.0.1:5000\n",
      "Press CTRL+C to quit\n",
      "127.0.0.1 - - [18/Mar/2023 22:24:41] \"GET /user_logins HTTP/1.1\" 200 -\n"
     ]
    }
   ],
   "source": [
    "from flask import Flask, jsonify\n",
    "\n",
    "app = Flask(__name__)\n",
    "\n",
    "@app.route('/user_logins', methods=['GET'])\n",
    "def user_logins():\n",
    "    user_logins = get_user_logins()\n",
    "    return jsonify(user_logins)\n",
    "\n",
    "if __name__ == '__main__':\n",
    "    app.run()"
   ]
  },
  {
   "cell_type": "code",
   "execution_count": null,
   "metadata": {},
   "outputs": [],
   "source": []
  }
 ],
 "metadata": {
  "kernelspec": {
   "display_name": "ssc-app",
   "language": "python",
   "name": "python3"
  },
  "language_info": {
   "codemirror_mode": {
    "name": "ipython",
    "version": 3
   },
   "file_extension": ".py",
   "mimetype": "text/x-python",
   "name": "python",
   "nbconvert_exporter": "python",
   "pygments_lexer": "ipython3",
   "version": "3.10.9"
  },
  "orig_nbformat": 4
 },
 "nbformat": 4,
 "nbformat_minor": 2
}
